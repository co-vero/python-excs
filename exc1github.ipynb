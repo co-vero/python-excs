{
 "cells": [
  {
   "cell_type": "code",
   "execution_count": 4,
   "metadata": {},
   "outputs": [
    {
     "name": "stdout",
     "output_type": "stream",
     "text": [
      "Resultado: 5151\n"
     ]
    }
   ],
   "source": [
    "# EXC 1\n",
    "# Escreva um programa que recebe um número inteiro  de dois dígitos, mas representado como um número real com zeros após o ponto decimal.\n",
    "# Retorne a parte inteira desse número multiplicado por 100 mais ele mesmo, isto é, um inteiro de quatro dígitos\n",
    "\n",
    "def calc(num):\n",
    "    return int(num) * 100 + num\n",
    "\n",
    "num = float(input(\"Digite um número real com dois dígitos: \"))\n",
    "numFinal = calc(num)\n",
    "\n",
    "print(f\"Resultado: {numFinal:.0f}\")"
   ]
  },
  {
   "cell_type": "code",
   "execution_count": 8,
   "metadata": {},
   "outputs": [
    {
     "name": "stdout",
     "output_type": "stream",
     "text": [
      "Foram 2 pedaços de bolo de maçã, então fica 6.50 reais\n"
     ]
    }
   ],
   "source": [
    "# EXC 2\n",
    "# Drikinha gosta de bolos de vários sabores. Uma vez por semana ela vai em uma padaria perto de casa e pede x pedaços de bolo de algum sabor, o pedaço de bolo tem o valor fixo de 3.25 reais, \n",
    "# independentemente do sabor. Escreva um programa que recebe o sabor do bolo e a quantidade de pedaços que Drikinha irá comprar e retorne a frase do atendente: \n",
    "# \"Foram 𝑥 pedaços de bolo de 𝑠, então fica 𝑧 reais\". Onde 𝑥 é a quantidade de pedaços, 𝑠 o sabor do bolo e 𝑧 o total da compra de Drikinha em reais. \n",
    "# Imprima o valor da compra com apenas duas casas após a vírgula.\n",
    "\n",
    "def calc(x):\n",
    "    return x * 3.25\n",
    "\n",
    "x = int(input(\"Digite a quantidade de pedaços: \"))\n",
    "s = input(\"Digite o sabor do bolo: \")\n",
    "\n",
    "total = calc(x)\n",
    "\n",
    "print(f\"Foram {x:.0f} pedaços de bolo de {s}, então fica {total:.2f} reais\")"
   ]
  },
  {
   "cell_type": "code",
   "execution_count": 9,
   "metadata": {},
   "outputs": [
    {
     "name": "stdout",
     "output_type": "stream",
     "text": [
      "powbambambamwooshwoosh\n"
     ]
    }
   ],
   "source": [
    "# EXC 3\n",
    "# Cebolinha e Cascão acabaram de ler todos os gibis da Turma da Mônica. Como eles não tem mais nada pra fazer, já que a Mônica viajou, decidiram fazer uma brincadeira:\n",
    "# os dois procuraram todas as onomatopeias dos gibis e formam novas a partir de três existentes. Para formar uma nova onomatopeia eles juntam a primeira string com três \n",
    "# ocorrências da segunda e duas da terceira. Escreva um programa que dadas três onomatopeias, crie uma nova seguindo a lógica dos amigos do Bairro do Limoeiro.\n",
    "\n",
    "def novaFrase(s1, s2, s3):\n",
    "    return s1 + s2 * 3 + s3 * 2\n",
    "\n",
    "s1, s2, s3 = input(\"Digite três onomatopeias: \").split()\n",
    "fraseFinal = novaFrase(s1, s2, s3)\n",
    "\n",
    "print(fraseFinal)"
   ]
  },
  {
   "cell_type": "code",
   "execution_count": 15,
   "metadata": {},
   "outputs": [
    {
     "name": "stdout",
     "output_type": "stream",
     "text": [
      "hoje é domingo.\n"
     ]
    }
   ],
   "source": [
    "# EXC 4\n",
    "# Dado o seguinte programa copie-o no IDE Python para depurá-lo até funcionar corretamente:\n",
    "\n",
    "def formaFrase(s, o, p):\n",
    "    return (s + \" \" + ( p + \" \" + o ) + \".\")\n",
    "\n",
    "s = input()\n",
    "o = input()\n",
    "p= input()\n",
    "\n",
    "print(formaFrase(s, o, p))"
   ]
  },
  {
   "cell_type": "code",
   "execution_count": 18,
   "metadata": {},
   "outputs": [
    {
     "name": "stdout",
     "output_type": "stream",
     "text": [
      "Média final: 10.000000\n"
     ]
    }
   ],
   "source": [
    "# EXC 5\n",
    "# Elabore um programa que lê três notas de um aluno e o peso de cada nota e apresenta a média final deste aluno.\n",
    "# uma linha contendo três números do tipo floats n1, n2 e n3, que representam as notas de um aluno.\n",
    "# a segunda linha da entrada contém números três inteiros p1, p2 e p3, que representam os pesos de cada nota.\n",
    "\n",
    "def calcMedia(n1, n2, n3, p1, p2, p3):\n",
    "    return (n1 * p1 + n2 * p2 + n3 * p3) / (p1 + p2 + p3)\n",
    "\n",
    "n1, n2, n3 = map(float, input().split())\n",
    "p1, p2, p3 = map(int, input().split())\n",
    "\n",
    "media = calcMedia(n1, n2, n3, p1, p2, p3)\n",
    "\n",
    "print(f\"Média final: {media:.6f}\")"
   ]
  },
  {
   "cell_type": "code",
   "execution_count": 22,
   "metadata": {},
   "outputs": [
    {
     "name": "stdout",
     "output_type": "stream",
     "text": [
      "Valor final da remessa: 24\n"
     ]
    }
   ],
   "source": [
    "# EXC 6\n",
    "# Para cada minério de ferro o valor da remessa é acrescido em uma esmeralda. \n",
    "# Para cada minério de ouro o valor da remessa é duplicado. \n",
    "# Para cada pó vermelho o valor da remessa é acrescido em duas esmeraldas. \n",
    "# Para cada diamante o valor da remessa é quadruplicado. \n",
    "# Escreva um programa que recebe o valor da remessa e a quantidade de cada minério e retorne o valor final da remessa.\n",
    "\n",
    "def calcRemessa( ferro, ouro, vermelho, diamante):\n",
    "    esmeraldas = 0\n",
    "    esmeraldas += ferro\n",
    "    esmeraldas += 2 * vermelho\n",
    "    esmeraldas = (esmeraldas * 2) * ouro\n",
    "    esmeraldas = (esmeraldas * 4) * diamante\n",
    "    return esmeraldas\n",
    "\n",
    "ferro = int(input(\"Digite a quantidade de minérios de ferro: \"))\n",
    "ouro = int(input(\"Digite a quantidade de minérios de ouro: \"))\n",
    "vermelho = int(input(\"Digite a quantidade de pós vermelhos: \"))\n",
    "diamante = int(input(\"Digite a quantidade de diamantes: \"))\n",
    "remessaFinal = calcRemessa(ferro, ouro, vermelho, diamante)\n",
    "\n",
    "print(f\"Valor final da remessa: {remessaFinal:.0f}\")"
   ]
  }
 ],
 "metadata": {
  "kernelspec": {
   "display_name": "Python 3.10.6 64-bit",
   "language": "python",
   "name": "python3"
  },
  "language_info": {
   "codemirror_mode": {
    "name": "ipython",
    "version": 3
   },
   "file_extension": ".py",
   "mimetype": "text/x-python",
   "name": "python",
   "nbconvert_exporter": "python",
   "pygments_lexer": "ipython3",
   "version": "3.10.6"
  },
  "orig_nbformat": 4,
  "vscode": {
   "interpreter": {
    "hash": "aee8b7b246df8f9039afb4144a1f6fd8d2ca17a180786b69acc140d282b71a49"
   }
  }
 },
 "nbformat": 4,
 "nbformat_minor": 2
}
