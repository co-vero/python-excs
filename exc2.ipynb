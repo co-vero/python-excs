{
 "cells": [
  {
   "cell_type": "code",
   "execution_count": 7,
   "metadata": {},
   "outputs": [
    {
     "name": "stdout",
     "output_type": "stream",
     "text": [
      "Não vale a pena investir\n"
     ]
    }
   ],
   "source": [
    "# EXC 1\n",
    "\n",
    "import math\n",
    "\n",
    "x1 = float(input(\"Digite a distância x1: \"))\n",
    "y1 = float(input(\"Digite a distância y1:  \"))\n",
    "x2 = float(input(\"Digite a distância y3: \"))\n",
    "y2 = float(input(\"Digite a distância x2: \"))\n",
    "\n",
    "d = math.sqrt((x2-x1)**2 + (y2-y1)**2)\n",
    "\n",
    "if d <= 100:\n",
    "    print(\"É o amor da minha vida!\")\n",
    "elif 100 < d <= 200:\n",
    "    print(\"Talvez dê certo\")\n",
    "else:\n",
    "    print(\"Não vale a pena investir\")"
   ]
  },
  {
   "cell_type": "code",
   "execution_count": 10,
   "metadata": {},
   "outputs": [
    {
     "name": "stdout",
     "output_type": "stream",
     "text": [
      "p\n",
      "2.11\n"
     ]
    }
   ],
   "source": [
    "# EXC 2\n",
    "\n",
    "n1, n2, n3 = map(float, input(\"Digite as três notas: \").split())\n",
    "\n",
    "tipo = input(\"Digite o tipo da média:  \")\n",
    "\n",
    "if tipo == \"A\" or tipo == \"a\":\n",
    "    med = (n1 + n2 + n3) / 3\n",
    "\n",
    "elif tipo == \"P\" or tipo == \"p\":\n",
    "    p1, p2, p3 = map(float, input(\"Digite os três pesos: \").split())\n",
    "    med = (n1*p1 + n2*p2 + n3*p3) / (p1 + p2 + p3)\n",
    "\n",
    "elif tipo == \"H\" or tipo == \"h\":\n",
    "    med = 3 / ((1/n1) + (1/n2) + (1/n3))\n",
    "\n",
    "else:\n",
    "    print(\"Tipo de média inválido\")\n",
    "\n",
    "print(tipo)\n",
    "print(f\"{med:.2f}\")"
   ]
  },
  {
   "cell_type": "code",
   "execution_count": 22,
   "metadata": {},
   "outputs": [
    {
     "name": "stdout",
     "output_type": "stream",
     "text": [
      "11\n",
      "9\n",
      "7\n",
      "5\n",
      "3\n",
      "1\n"
     ]
    },
    {
     "data": {
      "text/plain": [
       "0"
      ]
     },
     "execution_count": 22,
     "metadata": {},
     "output_type": "execute_result"
    }
   ],
   "source": [
    "# EXC 3\n",
    "\n",
    "def imprimeTermos(n):\n",
    "    if n <= 0:\n",
    "        return 0\n",
    "\n",
    "    else:\n",
    "        print(n)\n",
    "        return n * imprimeTermos(n-2)\n",
    "\n",
    "imprimeTermos(11)"
   ]
  },
  {
   "cell_type": "code",
   "execution_count": 24,
   "metadata": {},
   "outputs": [
    {
     "data": {
      "text/plain": [
       "14.142135623730951"
      ]
     },
     "execution_count": 24,
     "metadata": {},
     "output_type": "execute_result"
    }
   ],
   "source": [
    "# EXC 4\n",
    "\n",
    "import math\n",
    "\n",
    "def distancia(x1, y1, x2, y2):\n",
    "    return math.sqrt((x2-x1)**2 + (y2-y1)**2)\n",
    "\n",
    "distancia(0,0,10,10)"
   ]
  },
  {
   "cell_type": "code",
   "execution_count": 76,
   "metadata": {},
   "outputs": [
    {
     "data": {
      "text/plain": [
       "1"
      ]
     },
     "execution_count": 76,
     "metadata": {},
     "output_type": "execute_result"
    }
   ],
   "source": [
    "# EXC 5\n",
    "\n",
    "def n_termo(i, r, n):\n",
    "    loop = 1\n",
    "    while loop < n:\n",
    "        i += r\n",
    "        loop += 1\n",
    "    return i\n",
    "\n",
    "\n",
    "n_termo(100, -1, 100)"
   ]
  },
  {
   "cell_type": "code",
   "execution_count": 45,
   "metadata": {},
   "outputs": [
    {
     "data": {
      "text/plain": [
       "-1"
      ]
     },
     "execution_count": 45,
     "metadata": {},
     "output_type": "execute_result"
    }
   ],
   "source": [
    "# EXC 6\n",
    "\n",
    "def raizes(a, b, c):\n",
    "    delta = b**2 - 4*a*c\n",
    "    if delta < 0:\n",
    "        return -1\n",
    "    elif delta == 0:\n",
    "        return 1\n",
    "    else:\n",
    "        return 2\n",
    "\n",
    "raizes(-4, -7, -12)"
   ]
  },
  {
   "cell_type": "code",
   "execution_count": 57,
   "metadata": {},
   "outputs": [
    {
     "data": {
      "text/plain": [
       "35"
      ]
     },
     "execution_count": 57,
     "metadata": {},
     "output_type": "execute_result"
    }
   ],
   "source": [
    "# EXC 7\n",
    "\n",
    "def deivis_sequence(a):\n",
    "    if a == 1:\n",
    "        return 1\n",
    "    if a == 2:\n",
    "        return 2\n",
    "    if a == 3:\n",
    "        return 2\n",
    "    else:\n",
    "        return deivis_sequence(a-1) + deivis_sequence(a-2) - 1\n",
    "\n",
    "deivis_sequence(10)\n",
    "\n"
   ]
  }
 ],
 "metadata": {
  "kernelspec": {
   "display_name": "Python 3.10.6 64-bit",
   "language": "python",
   "name": "python3"
  },
  "language_info": {
   "codemirror_mode": {
    "name": "ipython",
    "version": 3
   },
   "file_extension": ".py",
   "mimetype": "text/x-python",
   "name": "python",
   "nbconvert_exporter": "python",
   "pygments_lexer": "ipython3",
   "version": "3.10.6"
  },
  "orig_nbformat": 4,
  "vscode": {
   "interpreter": {
    "hash": "aee8b7b246df8f9039afb4144a1f6fd8d2ca17a180786b69acc140d282b71a49"
   }
  }
 },
 "nbformat": 4,
 "nbformat_minor": 2
}
