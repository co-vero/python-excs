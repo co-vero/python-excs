{
 "cells": [
  {
   "cell_type": "code",
   "execution_count": 2,
   "metadata": {},
   "outputs": [
    {
     "name": "stdout",
     "output_type": "stream",
     "text": [
      "Bom dia, querido(a) Ricardo! Como você está?\n"
     ]
    }
   ],
   "source": [
    "# EXC 1\n",
    "\n",
    "def saudacao(name):\n",
    "    print('Bom dia, querido(a)', name + '! Como você está?')\n",
    "\n",
    "saudacao('Ricardo')"
   ]
  },
  {
   "cell_type": "code",
   "execution_count": 4,
   "metadata": {},
   "outputs": [
    {
     "name": "stdout",
     "output_type": "stream",
     "text": [
      "fahrenheit:  89.6\n",
      "kelvin:  305.15\n"
     ]
    }
   ],
   "source": [
    "#EXC 2\n",
    "\n",
    "def fahrenheit(celsius):\n",
    "    return (celsius * 1.8) + 32\n",
    "\n",
    "def kelvin(celsius):\n",
    "    return celsius + 273.15\n",
    "\n",
    "print('fahrenheit: ', fahrenheit(32))\n",
    "print('kelvin: ', kelvin(32))"
   ]
  },
  {
   "cell_type": "code",
   "execution_count": 6,
   "metadata": {},
   "outputs": [
    {
     "name": "stdout",
     "output_type": "stream",
     "text": [
      "!!!!!!!!!!Fofocas quentes!!!!!!!!!!\n"
     ]
    }
   ],
   "source": [
    "# EXC 3\n",
    "\n",
    "def estilo(s, n, m):\n",
    "    print(s*n+m+s*n)\n",
    "\n",
    "estilo('!', 10, 'Fofocas quentes')"
   ]
  },
  {
   "cell_type": "code",
   "execution_count": 20,
   "metadata": {},
   "outputs": [
    {
     "name": "stdout",
     "output_type": "stream",
     "text": [
      "|★★★☆☆☆☆☆☆☆|\n"
     ]
    }
   ],
   "source": [
    "#EXC 4\n",
    "\n",
    "def nota(n):\n",
    "    return '|' + '★'*n+'☆'*(10-n) + '|'\n",
    "\n",
    "print(nota(3))"
   ]
  },
  {
   "cell_type": "code",
   "execution_count": 32,
   "metadata": {},
   "outputs": [
    {
     "name": "stdout",
     "output_type": "stream",
     "text": [
      "(2, 3, 2)\n"
     ]
    }
   ],
   "source": [
    "#EXC 5\n",
    "\n",
    "def areas(A, B, C):\n",
    "    return int(A*B), int((B*C)/2), int(((B+C)*A)/2)\n",
    "\n",
    "print(areas(1, 2, 3))"
   ]
  },
  {
   "cell_type": "code",
   "execution_count": 36,
   "metadata": {},
   "outputs": [
    {
     "name": "stdout",
     "output_type": "stream",
     "text": [
      "(1, 1, 0, 0, 4)\n"
     ]
    }
   ],
   "source": [
    "#EXC 6\n",
    "#troco em moedas 50, 35, 10, 5, 1\n",
    "\n",
    "def troco(moeda):\n",
    "    half = quarter = ten = five = pennie = 0\n",
    "\n",
    "    while moeda >= 50:\n",
    "        moeda -= 50\n",
    "        half += 1\n",
    "    while moeda >= 25:\n",
    "        moeda -= 25\n",
    "        quarter += 1\n",
    "    while moeda >= 10:\n",
    "        moeda -= 10\n",
    "        ten += 1\n",
    "    while moeda >= 5:\n",
    "        moeda -= 5\n",
    "        five += 1\n",
    "    while moeda >= 1:\n",
    "        moeda -= 1\n",
    "        pennie += 1\n",
    "\n",
    "    return half, quarter, ten, five, pennie\n",
    "\n",
    "print(troco(79))\n",
    "\n"
   ]
  }
 ],
 "metadata": {
  "kernelspec": {
   "display_name": "Python 3.10.6 64-bit",
   "language": "python",
   "name": "python3"
  },
  "language_info": {
   "codemirror_mode": {
    "name": "ipython",
    "version": 3
   },
   "file_extension": ".py",
   "mimetype": "text/x-python",
   "name": "python",
   "nbconvert_exporter": "python",
   "pygments_lexer": "ipython3",
   "version": "3.10.6"
  },
  "orig_nbformat": 4,
  "vscode": {
   "interpreter": {
    "hash": "aee8b7b246df8f9039afb4144a1f6fd8d2ca17a180786b69acc140d282b71a49"
   }
  }
 },
 "nbformat": 4,
 "nbformat_minor": 2
}
