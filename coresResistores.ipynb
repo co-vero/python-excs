{
 "cells": [
  {
   "cell_type": "code",
   "execution_count": 25,
   "metadata": {},
   "outputs": [],
   "source": [
    "# Determina as cores dos dígitos de valor\n",
    "colors = {\n",
    "    '0': 'Preta', \n",
    "    '1': 'Marrom', \n",
    "    '2': 'Vermelha', \n",
    "    '3': 'Laranja', \n",
    "    '4': 'Amarela',\n",
    "    '5': 'Verde',\n",
    "    '6': 'Azul',\n",
    "    '7': 'Violeta',\n",
    "    '8': 'Cinza',\n",
    "    '9': 'Branco'\n",
    "}\n",
    "\n",
    "# Determina a cor da tolerância\n",
    "toleranceColors = {\n",
    "    '1': 'Marrom', \n",
    "    '2': 'Vermelha', \n",
    "    '0.05': 'Laranja', \n",
    "    '0.02': 'Amarela', \n",
    "    '0.5': 'Verde',\n",
    "    '0.25': 'Azul',\n",
    "    '0.1': 'Violeta',\n",
    "    '0.05': 'Cinza'\n",
    "}\n",
    "\n",
    "# Converte o múltiplo de grandeza para ohms\n",
    "multipliers = {\n",
    "    'm': 10**-3, \n",
    "    '-': 1,\n",
    "    'K': 10**3,\n",
    "    'M': 10**6,\n",
    "    'G': 10**9\n",
    "}"
   ]
  },
  {
   "cell_type": "code",
   "execution_count": 30,
   "metadata": {},
   "outputs": [
    {
     "name": "stdout",
     "output_type": "stream",
     "text": [
      "['Vermelha', 'Violeta', 'Preta', 'Preta', 'Preta', 'Preta', 'Preta', 'Preta', 'Preta', 'Marrom']\n"
     ]
    }
   ],
   "source": [
    "def IEC60062(string):\n",
    "    # Determina as cores dos dígitos de valor\n",
    "    colors = {\n",
    "        '0': 'Preta', \n",
    "        '1': 'Marrom', \n",
    "        '2': 'Vermelha', \n",
    "        '3': 'Laranja', \n",
    "        '4': 'Amarela',\n",
    "        '5': 'Verde',\n",
    "        '6': 'Azul',\n",
    "        '7': 'Violeta',\n",
    "        '8': 'Cinza',\n",
    "        '9': 'Branco'\n",
    "    }\n",
    "\n",
    "    # Determina a cor da tolerância\n",
    "    toleranceColors = {\n",
    "        '0.01': 'Marrom', \n",
    "        '0.02': 'Vermelha', \n",
    "        '0.0005': 'Laranja', \n",
    "        '0.0002': 'Amarela', \n",
    "        '0.005': 'Verde',\n",
    "        '0.0025': 'Azul',\n",
    "        '0.001': 'Violeta',\n",
    "        '0.0005': 'Cinza'\n",
    "    }\n",
    "\n",
    "    # Converte o múltiplo de grandeza para ohms\n",
    "    multipliers = {\n",
    "        'm': 10**-3, \n",
    "        '-': 1,\n",
    "        'K': 10**3,\n",
    "        'M': 10**6,\n",
    "        'G': 10**9\n",
    "    }\n",
    "\n",
    "    # Separa o valor da resistência, o múltiplo de grandeza e a tolerância da entrada\n",
    "    value, multiplier, tolerance = string.split()\n",
    "    \n",
    "    # Remove o ponto do valor da resistência e converte para inteiro\n",
    "    value = int(value.replace('.', ''))\n",
    "    \n",
    "    value *= multipliers[multiplier]\n",
    "\n",
    "    valueColors = [colors[d] for d in str(value)]\n",
    "    \n",
    "    toleranceColors = toleranceColors[tolerance]\n",
    "    \n",
    "    # Retorna as cores determinadas como uma lista\n",
    "    return valueColors + [toleranceColors]\n",
    "\n",
    "print(IEC60062('2.70 M 0.01')) # ['Vermelha', 'Violeta', 'Preta', 'Amarela', 'Cinza']\n"
   ]
  }
 ],
 "metadata": {
  "kernelspec": {
   "display_name": "Python 3",
   "language": "python",
   "name": "python3"
  },
  "language_info": {
   "codemirror_mode": {
    "name": "ipython",
    "version": 3
   },
   "file_extension": ".py",
   "mimetype": "text/x-python",
   "name": "python",
   "nbconvert_exporter": "python",
   "pygments_lexer": "ipython3",
   "version": "3.10.6 (main, Aug 30 2022, 05:12:36) [Clang 13.1.6 (clang-1316.0.21.2.5)]"
  },
  "orig_nbformat": 4,
  "vscode": {
   "interpreter": {
    "hash": "aee8b7b246df8f9039afb4144a1f6fd8d2ca17a180786b69acc140d282b71a49"
   }
  }
 },
 "nbformat": 4,
 "nbformat_minor": 2
}
